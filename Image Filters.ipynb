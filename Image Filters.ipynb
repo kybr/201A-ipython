{
 "metadata": {
  "name": "",
  "signature": "sha256:cf738078f827c02102035413501fe10acb8a166a8d31df647a746bea293085fc"
 },
 "nbformat": 3,
 "nbformat_minor": 0,
 "worksheets": [
  {
   "cells": [
    {
     "cell_type": "code",
     "collapsed": false,
     "input": [
      "%pylab inline\n",
      "rcParams['figure.figsize'] = (10, 4) #wide graphs by default\n",
      "from __future__ import print_function\n",
      "from __future__ import division"
     ],
     "language": "python",
     "metadata": {},
     "outputs": []
    },
    {
     "cell_type": "heading",
     "level": 1,
     "metadata": {},
     "source": [
      "Image Filters"
     ]
    },
    {
     "cell_type": "code",
     "collapsed": false,
     "input": [
      "#i = imread('Lenna.png')\n",
      "from scipy.misc import lena\n",
      "\n",
      "i = lena()\n",
      "imshow(i, cmap=cm.gray)"
     ],
     "language": "python",
     "metadata": {},
     "outputs": []
    },
    {
     "cell_type": "code",
     "collapsed": false,
     "input": [
      "kernel = ones((20,20))/20"
     ],
     "language": "python",
     "metadata": {},
     "outputs": []
    },
    {
     "cell_type": "heading",
     "level": 2,
     "metadata": {},
     "source": [
      "2D convolution"
     ]
    },
    {
     "cell_type": "code",
     "collapsed": false,
     "input": [
      "from scipy.signal import convolve2d"
     ],
     "language": "python",
     "metadata": {},
     "outputs": []
    },
    {
     "cell_type": "code",
     "collapsed": false,
     "input": [
      "mat = zeros((100,100))\n",
      "mat[50,50] = 1\n",
      "imshow(mat, cmap=cm.gray, interpolation='nearest')"
     ],
     "language": "python",
     "metadata": {},
     "outputs": []
    },
    {
     "cell_type": "code",
     "collapsed": false,
     "input": [
      "c = convolve2d(mat, kernel)\n",
      "imshow(c, cmap= cm.gray, interpolation='nearest')\n",
      "colorbar()"
     ],
     "language": "python",
     "metadata": {},
     "outputs": []
    },
    {
     "cell_type": "code",
     "collapsed": false,
     "input": [
      "mat = zeros((100,100))\n",
      "mat[50,50] = 1\n",
      "kernel = zeros((20, 20))\n",
      "kernel[10,  :] = 1\n",
      "kernel[:, 10] = 1\n",
      "imshow(kernel, cmap= cm.gray, interpolation='nearest')"
     ],
     "language": "python",
     "metadata": {},
     "outputs": []
    },
    {
     "cell_type": "code",
     "collapsed": false,
     "input": [
      "c = convolve2d(mat, kernel)\n",
      "imshow(c, cmap= cm.gray, interpolation='nearest')\n",
      "colorbar()"
     ],
     "language": "python",
     "metadata": {},
     "outputs": []
    },
    {
     "cell_type": "code",
     "collapsed": false,
     "input": [
      "a = random.rand(64,64)\n",
      "snow = where (a > 0.997, 1, 0)\n",
      "imshow(snow, cmap= cm.gray, interpolation='nearest')"
     ],
     "language": "python",
     "metadata": {},
     "outputs": []
    },
    {
     "cell_type": "code",
     "collapsed": false,
     "input": [
      "c = convolve2d(snow, kernel)\n",
      "imshow(c, cmap= cm.gray, interpolation='nearest')\n",
      "colorbar()"
     ],
     "language": "python",
     "metadata": {},
     "outputs": []
    },
    {
     "cell_type": "code",
     "collapsed": false,
     "input": [
      "from scipy.ndimage.filters import convolve as convolve2\n",
      "kernel_ghost = zeros((31, 31))\n",
      "kernel_ghost[15,15] = 1\n",
      "kernel_ghost[30,30] = 0.5\n",
      "imshow(kernel_ghost, cmap = cm.gray, interpolation='nearest')"
     ],
     "language": "python",
     "metadata": {},
     "outputs": []
    },
    {
     "cell_type": "code",
     "collapsed": false,
     "input": [
      "ghost = convolve2(i[:,:], kernel_ghost)\n",
      "imshow(ghost, cmap = cm.gray, interpolation='nearest')"
     ],
     "language": "python",
     "metadata": {},
     "outputs": []
    },
    {
     "cell_type": "code",
     "collapsed": false,
     "input": [
      "kernel_stamp = zeros((30,30))\n",
      "kernel_stamp[arange(30), arange(30)] = 1.0\n",
      "imshow(kernel_stamp, cmap=cm.gray, interpolation='nearest')"
     ],
     "language": "python",
     "metadata": {},
     "outputs": []
    },
    {
     "cell_type": "code",
     "collapsed": false,
     "input": [
      "subplot(131)\n",
      "src_image = i[:,:]\n",
      "imshow(src_image, cmap=cm.gray, interpolation='nearest')\n",
      "\n",
      "subplot(132)\n",
      "kernel_stamp = zeros((30,30))\n",
      "kernel_stamp[arange(30), arange(30)] = 1.0\n",
      "stamp = convolve2(src_image, kernel_stamp)\n",
      "imshow(stamp, cmap=cm.gray, interpolation='nearest')\n",
      "\n",
      "subplot(133)\n",
      "kernel_stamp = zeros((30,30))\n",
      "kernel_stamp[15,:] = 1.0\n",
      "kernel_stamp[:,15] = 1.0\n",
      "stamp = convolve2(src_image, kernel_stamp)\n",
      "imshow(stamp, cmap=cm.gray, interpolation='nearest')\n"
     ],
     "language": "python",
     "metadata": {},
     "outputs": []
    },
    {
     "cell_type": "heading",
     "level": 2,
     "metadata": {},
     "source": [
      "Gaussian Filter"
     ]
    },
    {
     "cell_type": "code",
     "collapsed": false,
     "input": [
      "import scipy.ndimage as ndimage"
     ],
     "language": "python",
     "metadata": {},
     "outputs": []
    },
    {
     "cell_type": "code",
     "collapsed": false,
     "input": [
      "single_dot = zeros((101, 101))\n",
      "single_dot[50, 50] = 1.0\n",
      "gauss_kernel = ndimage.gaussian_filter(single_dot, 5)\n",
      "imshow(gauss_kernel)\n",
      "colorbar()"
     ],
     "language": "python",
     "metadata": {},
     "outputs": []
    },
    {
     "cell_type": "code",
     "collapsed": false,
     "input": [
      "from mpl_toolkits.mplot3d import Axes3D\n",
      "\n",
      "fig = figure()\n",
      "ax = Axes3D(fig)\n",
      "x, y = mgrid[0:101, 0:101]\n",
      "ax.plot_surface(x,y,gauss_kernel)\n",
      "fig.add_axes(ax)"
     ],
     "language": "python",
     "metadata": {},
     "outputs": []
    },
    {
     "cell_type": "code",
     "collapsed": false,
     "input": [
      "plot(abs(fft.rfft(gauss_kernel[:, 50])), 'o-')"
     ],
     "language": "python",
     "metadata": {},
     "outputs": []
    },
    {
     "cell_type": "code",
     "collapsed": false,
     "input": [
      "plot(abs(fft.rfft(gauss_kernel[:, 50], n=512)))\n",
      "\n",
      "twinx()\n",
      "plot(angle(fft.rfft(gauss_kernel[:, 50], n=512)), 'r')"
     ],
     "language": "python",
     "metadata": {},
     "outputs": []
    },
    {
     "cell_type": "markdown",
     "metadata": {},
     "source": [
      "It's a low-pass filter!"
     ]
    },
    {
     "cell_type": "code",
     "collapsed": false,
     "input": [
      "gauss_blur = convolve2(src_image, gauss_kernel)\n",
      "imshow(gauss_blur, cmap=cm.gray, interpolation= 'nearest')"
     ],
     "language": "python",
     "metadata": {},
     "outputs": []
    },
    {
     "cell_type": "code",
     "collapsed": false,
     "input": [
      "single_dot = zeros((101, 101))\n",
      "single_dot[50, 50] = 1.0\n",
      "gauss_kernel = ndimage.gaussian_filter(single_dot, 20)\n",
      "imshow(gauss_kernel, interpolation='nearest')\n",
      "colorbar()"
     ],
     "language": "python",
     "metadata": {},
     "outputs": []
    },
    {
     "cell_type": "code",
     "collapsed": false,
     "input": [
      "gauss_blur = convolve2(src_image, gauss_kernel)\n",
      "imshow(gauss_blur, cmap=cm.gray, interpolation= 'nearest')"
     ],
     "language": "python",
     "metadata": {},
     "outputs": []
    },
    {
     "cell_type": "code",
     "collapsed": false,
     "input": [
      "plot(abs(fft.rfft(gauss_kernel[:, 50], n= 512)))"
     ],
     "language": "python",
     "metadata": {},
     "outputs": []
    },
    {
     "cell_type": "code",
     "collapsed": false,
     "input": [
      "import scipy.stats as stats\n",
      "gauss = stats.norm.pdf(arange(17), loc=8, scale=5)\n",
      "plot(gauss)"
     ],
     "language": "python",
     "metadata": {},
     "outputs": []
    },
    {
     "cell_type": "code",
     "collapsed": false,
     "input": [
      "\n",
      "kernel = zeros((17,17))\n",
      "kernel[8,:] = gauss\n",
      "imshow(kernel, cmap = cm.gray, interpolation='nearest')"
     ],
     "language": "python",
     "metadata": {},
     "outputs": []
    },
    {
     "cell_type": "code",
     "collapsed": false,
     "input": [
      "plot(abs(rfft(gauss, 512)))"
     ],
     "language": "python",
     "metadata": {},
     "outputs": []
    },
    {
     "cell_type": "code",
     "collapsed": false,
     "input": [
      "imshow(kernel, interpolation='nearest', cmap=cm.gray)\n",
      "figure()\n",
      "imshow(gauss_kernel, interpolation='nearest', cmap=cm.gray)"
     ],
     "language": "python",
     "metadata": {},
     "outputs": []
    },
    {
     "cell_type": "code",
     "collapsed": false,
     "input": [
      "c = convolve2(src_image, kernel)\n",
      "subplot(131)\n",
      "imshow(c, cmap=cm.gray, interpolation='nearest')\n",
      "\n",
      "c = convolve2(src_image, gauss_kernel)\n",
      "subplot(132)\n",
      "imshow(c, cmap=cm.gray, interpolation='nearest')\n",
      "\n",
      "subplot(133)\n",
      "imshow(ndimage.gaussian_filter(src_image, 5), cmap=cm.gray, interpolation='nearest')\n"
     ],
     "language": "python",
     "metadata": {},
     "outputs": []
    },
    {
     "cell_type": "heading",
     "level": 3,
     "metadata": {},
     "source": [
      "Reduce Moir\u00e9 patterns"
     ]
    },
    {
     "cell_type": "code",
     "collapsed": false,
     "input": [
      "pyt = imread('Gaussian_blur_before_downscaling.png')[5:60, 30:90]\n",
      "imshow(pyt, interpolation='nearest')"
     ],
     "language": "python",
     "metadata": {},
     "outputs": []
    },
    {
     "cell_type": "code",
     "collapsed": false,
     "input": [
      "imshow(ndimage.gaussian_filter(pyt, 0.85), interpolation='nearest')"
     ],
     "language": "python",
     "metadata": {},
     "outputs": []
    },
    {
     "cell_type": "heading",
     "level": 2,
     "metadata": {},
     "source": [
      "Uniform filter"
     ]
    },
    {
     "cell_type": "code",
     "collapsed": false,
     "input": [
      "single_dot = zeros((101, 101))\n",
      "single_dot[50, 50] = 1.0\n",
      "gauss_kernel = ndimage.uniform_filter(single_dot, 20)\n",
      "imshow(gauss_kernel)\n",
      "colorbar()"
     ],
     "language": "python",
     "metadata": {},
     "outputs": []
    },
    {
     "cell_type": "markdown",
     "metadata": {},
     "source": [
      "Another low-pass filter"
     ]
    },
    {
     "cell_type": "code",
     "collapsed": false,
     "input": [
      "src_image_eyes = src_image[150:300, 100:400]\n",
      "subplot(121)\n",
      "imshow(ndimage.gaussian_filter(src_image_eyes, 5), cmap=cm.gray, interpolation='nearest')\n",
      "subplot(122)\n",
      "imshow(ndimage.uniform_filter(src_image_eyes, 13), cmap= cm.gray, interpolation='nearest');"
     ],
     "language": "python",
     "metadata": {},
     "outputs": []
    },
    {
     "cell_type": "markdown",
     "metadata": {},
     "source": [
      "This filter is often called \"Mean filter\""
     ]
    },
    {
     "cell_type": "heading",
     "level": 1,
     "metadata": {},
     "source": [
      "Median Filter"
     ]
    },
    {
     "cell_type": "code",
     "collapsed": false,
     "input": [
      "def imshow2(im):\n",
      "    imshow(im, cmap=cm.gray, interpolation='nearest')"
     ],
     "language": "python",
     "metadata": {},
     "outputs": []
    },
    {
     "cell_type": "code",
     "collapsed": false,
     "input": [
      "c3 = ndimage.median_filter(src_image_eyes, size=15)\n",
      "imshow2(c3)"
     ],
     "language": "python",
     "metadata": {},
     "outputs": []
    },
    {
     "cell_type": "code",
     "collapsed": false,
     "input": [
      "noise = where(random.random(src_image_eyes.shape) > 0.9, 0.5, 0)\n",
      "imshow2(noise)"
     ],
     "language": "python",
     "metadata": {},
     "outputs": []
    },
    {
     "cell_type": "code",
     "collapsed": false,
     "input": [
      "src_image_eyes.max(), src_image_eyes.dtype"
     ],
     "language": "python",
     "metadata": {},
     "outputs": []
    },
    {
     "cell_type": "code",
     "collapsed": false,
     "input": [
      "noisy_image = (src_image_eyes/255.0) +noise\n",
      "imshow2(noisy_image)\n",
      "colorbar()"
     ],
     "language": "python",
     "metadata": {},
     "outputs": []
    },
    {
     "cell_type": "code",
     "collapsed": false,
     "input": [
      "subplot(131)\n",
      "imshow2(ndimage.gaussian_filter(noisy_image, 5))\n",
      "#colorbar()\n",
      "subplot(132)\n",
      "imshow2(ndimage.gaussian_filter(noisy_image, 3))\n",
      "subplot(133)\n",
      "imshow2(ndimage.gaussian_filter(noisy_image, 1))"
     ],
     "language": "python",
     "metadata": {},
     "outputs": []
    },
    {
     "cell_type": "code",
     "collapsed": false,
     "input": [
      "subplot(131)\n",
      "imshow2(ndimage.median_filter(noisy_image, 3))\n",
      "colorbar()\n",
      "\n",
      "subplot(132)\n",
      "imshow2(ndimage.median_filter(noisy_image, 10))\n",
      "colorbar()\n",
      "\n",
      "subplot(133)\n",
      "imshow2(ndimage.median_filter(noisy_image, 4))\n",
      "colorbar()"
     ],
     "language": "python",
     "metadata": {},
     "outputs": []
    },
    {
     "cell_type": "heading",
     "level": 1,
     "metadata": {},
     "source": [
      "Sharpening"
     ]
    },
    {
     "cell_type": "code",
     "collapsed": false,
     "input": [
      "title('Sharpen')\n",
      "subplot(131)\n",
      "imshow2(src_image)\n",
      "\n",
      "subplot(132)\n",
      "c = ndimage.gaussian_filter(src_image, 1)\n",
      "c = src_image -c*0.5\n",
      "imshow2(c)\n",
      "\n",
      "subplot(133)\n",
      "c = ndimage.gaussian_filter(src_image, 1)\n",
      "c = src_image -c\n",
      "imshow2(c)"
     ],
     "language": "python",
     "metadata": {},
     "outputs": []
    },
    {
     "cell_type": "markdown",
     "metadata": {},
     "source": [
      "Turn the Gaussian Low-pass filter into a High-pass filter"
     ]
    },
    {
     "cell_type": "code",
     "collapsed": false,
     "input": [
      "gauss = stats.norm.pdf(arange(33), loc=16, scale=1)\n",
      "plot(gauss)"
     ],
     "language": "python",
     "metadata": {},
     "outputs": []
    },
    {
     "cell_type": "code",
     "collapsed": false,
     "input": [
      "sharpen = zeros(33)\n",
      "sharpen[16] = 1\n",
      "sharpen -= gauss\n",
      "plot(sharpen);"
     ],
     "language": "python",
     "metadata": {},
     "outputs": []
    },
    {
     "cell_type": "code",
     "collapsed": false,
     "input": [
      "plot(abs(rfft(sharpen)));"
     ],
     "language": "python",
     "metadata": {},
     "outputs": []
    },
    {
     "cell_type": "heading",
     "level": 1,
     "metadata": {},
     "source": [
      "Mathematical morphology"
     ]
    },
    {
     "cell_type": "markdown",
     "metadata": {},
     "source": [
      "These filters are linear, but not time invariant!\n",
      "\n",
      "http://en.wikipedia.org/wiki/Mathematical_morphology"
     ]
    },
    {
     "cell_type": "code",
     "collapsed": false,
     "input": [
      "src_image = zeros((100,100))\n",
      "src_image[25:-25, 25:-25] = 1.0\n",
      "noise =  where(random.random(src_image.shape) > 0.98, 0.5, 0)\n",
      "src_image += noise\n",
      "imshow2(src_image)"
     ],
     "language": "python",
     "metadata": {},
     "outputs": []
    },
    {
     "cell_type": "code",
     "collapsed": false,
     "input": [
      "structure = zeros((20,20))\n",
      "structure[range(20), range(20)] = 1.0 #\n",
      "imshow2(structure)"
     ],
     "language": "python",
     "metadata": {},
     "outputs": []
    },
    {
     "cell_type": "heading",
     "level": 2,
     "metadata": {},
     "source": [
      "Minimum filter (erosion)"
     ]
    },
    {
     "cell_type": "code",
     "collapsed": false,
     "input": [
      "eroded = ndimage.binary_erosion(src_image, structure)\n",
      "subplot(121)\n",
      "imshow2(src_image)\n",
      "subplot(122)\n",
      "imshow2(eroded)\n",
      "colorbar()"
     ],
     "language": "python",
     "metadata": {},
     "outputs": []
    },
    {
     "cell_type": "code",
     "collapsed": false,
     "input": [
      "src_image = where(i[:,:] > 255*0.6, 1, 0)\n",
      "eroded = ndimage.binary_erosion(src_image, structure)\n",
      "subplot(121)\n",
      "imshow2(src_image)\n",
      "subplot(122)\n",
      "imshow2(eroded)"
     ],
     "language": "python",
     "metadata": {},
     "outputs": []
    },
    {
     "cell_type": "code",
     "collapsed": false,
     "input": [
      "eroded = ndimage.binary_erosion(eroded, structure)\n",
      "subplot(121)\n",
      "imshow2(eroded)\n",
      "subplot(122)\n",
      "eroded = ndimage.binary_erosion(eroded, structure)\n",
      "imshow2(eroded)"
     ],
     "language": "python",
     "metadata": {},
     "outputs": []
    },
    {
     "cell_type": "heading",
     "level": 2,
     "metadata": {},
     "source": [
      "Maximum filter (dilation)"
     ]
    },
    {
     "cell_type": "code",
     "collapsed": false,
     "input": [
      "src_image = where(i > 255 * 0.7, 1, 0)\n",
      "dilated = ndimage.binary_dilation(src_image, structure)\n",
      "subplot(121)\n",
      "imshow2(src_image)\n",
      "subplot(122)\n",
      "imshow2(dilated)"
     ],
     "language": "python",
     "metadata": {},
     "outputs": []
    },
    {
     "cell_type": "code",
     "collapsed": false,
     "input": [
      "src_image = where(i > 255 * 0.7, 1, 0)\n",
      "structure = fliplr(structure)\n",
      "#structure[range(40), 1-arange(40)]\n",
      "dilated = ndimage.binary_dilation(src_image, structure)\n",
      "subplot(121)\n",
      "imshow2(src_image)\n",
      "subplot(122)\n",
      "imshow2(dilated)"
     ],
     "language": "python",
     "metadata": {},
     "outputs": []
    },
    {
     "cell_type": "code",
     "collapsed": false,
     "input": [
      "src_image = where(i > 255 * 0.7, 1, 0)\n",
      "g = mgrid[-15:15, -15:15]\n",
      "structure = where(sum(g**2, axis=0) < 150, 1, 0)\n",
      "imshow2(structure)"
     ],
     "language": "python",
     "metadata": {},
     "outputs": []
    },
    {
     "cell_type": "code",
     "collapsed": false,
     "input": [
      "#structure[range(40), 1-arange(40)]\n",
      "dilated = ndimage.binary_dilation(src_image, structure)\n",
      "subplot(121)\n",
      "imshow2(src_image)\n",
      "subplot(122)\n",
      "imshow2(dilated)"
     ],
     "language": "python",
     "metadata": {},
     "outputs": []
    },
    {
     "cell_type": "heading",
     "level": 2,
     "metadata": {},
     "source": [
      "Opening and closing"
     ]
    },
    {
     "cell_type": "markdown",
     "metadata": {},
     "source": [
      "Opening is erosion followed by dilation.\n",
      "\n",
      "Closing is the opposite, dilation followed by erosion."
     ]
    },
    {
     "cell_type": "code",
     "collapsed": false,
     "input": [
      "src_image = zeros((100,100))\n",
      "src_image[25:-25, 25:-25] = 1\n",
      "src_image[10:30, 10:30] = 1\n",
      "imshow2(src_image)"
     ],
     "language": "python",
     "metadata": {},
     "outputs": []
    },
    {
     "cell_type": "code",
     "collapsed": false,
     "input": [
      "subplot(121)\n",
      "imshow2(ndimage.binary_opening(src_image, structure))\n",
      "subplot(122)\n",
      "imshow2(ndimage.binary_closing(src_image, structure))"
     ],
     "language": "python",
     "metadata": {},
     "outputs": []
    },
    {
     "cell_type": "code",
     "collapsed": false,
     "input": [
      "g = mgrid[-5:5, -5:5]\n",
      "structure = where(sum(g**2, axis=0) < 17, 1, 0)\n",
      "imshow2(structure)"
     ],
     "language": "python",
     "metadata": {},
     "outputs": []
    },
    {
     "cell_type": "code",
     "collapsed": false,
     "input": [
      "subplot(121)\n",
      "imshow2(ndimage.binary_opening(src_image, structure))\n",
      "subplot(122)\n",
      "imshow2(ndimage.binary_closing(src_image, structure))"
     ],
     "language": "python",
     "metadata": {},
     "outputs": []
    },
    {
     "cell_type": "code",
     "collapsed": false,
     "input": [
      "src_image = where(i > 255 * 0.7, 1, 0)\n",
      "subplot(131)\n",
      "imshow2(src_image)\n",
      "subplot(132)\n",
      "imshow2(ndimage.binary_opening(src_image, structure))\n",
      "subplot(133)\n",
      "imshow2(ndimage.binary_closing(src_image, structure))\n",
      "gcf().set_figwidth(14)"
     ],
     "language": "python",
     "metadata": {},
     "outputs": []
    },
    {
     "cell_type": "heading",
     "level": 3,
     "metadata": {},
     "source": [
      "Grayscale morphology"
     ]
    },
    {
     "cell_type": "code",
     "collapsed": false,
     "input": [
      "ibwlena = lena()\n",
      "ibwlena.shape"
     ],
     "language": "python",
     "metadata": {},
     "outputs": []
    },
    {
     "cell_type": "code",
     "collapsed": false,
     "input": [
      "min_filter = ndimage.minimum_filter(ibwlena, (10,10))\n",
      "imshow(min_filter, cmap=cm.gray)"
     ],
     "language": "python",
     "metadata": {},
     "outputs": []
    },
    {
     "cell_type": "code",
     "collapsed": false,
     "input": [
      "subplot(121)\n",
      "min_filter = ndimage.minimum_filter(ibwlena, (64,64))\n",
      "imshow(min_filter, cmap=cm.gray)\n",
      "\n",
      "subplot(122)\n",
      "max_filter = ndimage.maximum_filter(ibwlena, (64,64))\n",
      "imshow(max_filter, cmap=cm.gray)"
     ],
     "language": "python",
     "metadata": {},
     "outputs": []
    },
    {
     "cell_type": "heading",
     "level": 3,
     "metadata": {},
     "source": [
      "Morphological gradient"
     ]
    },
    {
     "cell_type": "markdown",
     "metadata": {},
     "source": [
      "The difference between dilation and erosion"
     ]
    },
    {
     "cell_type": "markdown",
     "metadata": {},
     "source": [
      "http://en.wikipedia.org/wiki/File:Abraham_Lincoln_head_on_shoulders_photo_portrait.jpg"
     ]
    },
    {
     "cell_type": "code",
     "collapsed": false,
     "input": [
      "lincoln = imread(\"sources/Lincoln.jpg\")\n",
      "imshow(lincoln, cmap=cm.gray)"
     ],
     "language": "python",
     "metadata": {},
     "outputs": []
    },
    {
     "cell_type": "code",
     "collapsed": false,
     "input": [
      "min_filter = ndimage.minimum_filter(lincoln, (20,20))\n",
      "max_filter = ndimage.maximum_filter(lincoln, (20,20))\n",
      "imshow(max_filter - min_filter, cmap=cm.gray)"
     ],
     "language": "python",
     "metadata": {},
     "outputs": []
    },
    {
     "cell_type": "code",
     "collapsed": false,
     "input": [
      "min_filter = ndimage.minimum_filter(lincoln, (10,10))\n",
      "max_filter = ndimage.maximum_filter(lincoln, (10,10))\n",
      "imshow(max_filter - min_filter, cmap=cm.gray)"
     ],
     "language": "python",
     "metadata": {},
     "outputs": []
    },
    {
     "cell_type": "markdown",
     "metadata": {},
     "source": [
      "http://www.ee.lamar.edu/gleb/dip/10-3%20-%20Morphological%20Image%20Processing.pdf"
     ]
    },
    {
     "cell_type": "code",
     "collapsed": false,
     "input": [
      "import scipy.ndimage.morphology as morphology"
     ],
     "language": "python",
     "metadata": {},
     "outputs": []
    },
    {
     "cell_type": "code",
     "collapsed": false,
     "input": [
      "mg = morphology.morphological_gradient(lincoln, (10,10))\n",
      "imshow(mg, cmap=cm.gray)"
     ],
     "language": "python",
     "metadata": {},
     "outputs": []
    },
    {
     "cell_type": "markdown",
     "metadata": {},
     "source": [
      "###Top-hat transform\n",
      "\n",
      "\n",
      "\n",
      "http://en.wikipedia.org/wiki/Top-hat_transform\n",
      "\n",
      "\"The white top-hat transform is defined as the difference between the input image and its opening by some structuring element; The black top-hat transform is defined dually as the difference between the closing and the input image. \""
     ]
    },
    {
     "cell_type": "code",
     "collapsed": false,
     "input": [
      "wtp = morphology.white_tophat(lincoln, (15,15))\n",
      "imshow(wtp, cmap=cm.gray);"
     ],
     "language": "python",
     "metadata": {},
     "outputs": []
    },
    {
     "cell_type": "code",
     "collapsed": false,
     "input": [
      "btp = morphology.black_tophat(lincoln, (15,15))\n",
      "imshow(btp, cmap=cm.gray);"
     ],
     "language": "python",
     "metadata": {},
     "outputs": []
    },
    {
     "cell_type": "code",
     "collapsed": false,
     "input": [
      "imshow(btp + wtp, cmap=cm.gray);"
     ],
     "language": "python",
     "metadata": {},
     "outputs": []
    },
    {
     "cell_type": "heading",
     "level": 3,
     "metadata": {},
     "source": [
      "Handling \"blobs\""
     ]
    },
    {
     "cell_type": "code",
     "collapsed": false,
     "input": [
      "n = 10\n",
      "l = 256\n",
      "im = np.zeros((256,256))\n",
      "points = l*np.random.random((2, n**2))\n",
      "im[(points[0]).astype(np.int), (points[1]).astype(np.int)] = 1\n",
      "im = ndimage.gaussian_filter(im, 6)\n",
      "im = where(im > im.mean(), 1, 0)\n",
      "imshow2(im)"
     ],
     "language": "python",
     "metadata": {},
     "outputs": []
    },
    {
     "cell_type": "code",
     "collapsed": false,
     "input": [
      "label_im, nb_labels = ndimage.label(im)\n",
      "print nb_labels # number of regions"
     ],
     "language": "python",
     "metadata": {},
     "outputs": []
    },
    {
     "cell_type": "code",
     "collapsed": false,
     "input": [
      "imshow(label_im)"
     ],
     "language": "python",
     "metadata": {},
     "outputs": []
    },
    {
     "cell_type": "code",
     "collapsed": false,
     "input": [
      "blob = where(label_im == 13, 13, 0)\n",
      "blob += where(label_im == 30, 30, 0)\n",
      "imshow(blob, vmax= nb_labels)"
     ],
     "language": "python",
     "metadata": {},
     "outputs": []
    },
    {
     "cell_type": "code",
     "collapsed": false,
     "input": [
      "blobs = where(label_im > 13, 1, 0)\n",
      "imshow(blobs)"
     ],
     "language": "python",
     "metadata": {},
     "outputs": []
    },
    {
     "cell_type": "heading",
     "level": 2,
     "metadata": {},
     "source": [
      "Edge Detection"
     ]
    },
    {
     "cell_type": "code",
     "collapsed": false,
     "input": [
      "im = np.zeros((256,256))\n",
      "im[64:-64, 64:-64] = 1\n",
      "im = ndimage.rotate(im, 15, mode='constant')\n",
      "im = ndimage.gaussian_filter(im, 8)\n",
      "imshow2(im)"
     ],
     "language": "python",
     "metadata": {},
     "outputs": []
    },
    {
     "cell_type": "heading",
     "level": 2,
     "metadata": {},
     "source": [
      "Sobel operator"
     ]
    },
    {
     "cell_type": "code",
     "collapsed": false,
     "input": [
      "sx = ndimage.sobel(im, axis=0, mode='constant')\n",
      "sy = ndimage.sobel(im, axis=1, mode='constant')\n",
      "subplot(121)\n",
      "imshow(sx)\n",
      "colorbar()\n",
      "subplot(122)\n",
      "imshow(sy)\n",
      "gcf().set_figwidth(16)"
     ],
     "language": "python",
     "metadata": {},
     "outputs": []
    },
    {
     "cell_type": "code",
     "collapsed": false,
     "input": [
      "sob = hypot(sx, sy)\n",
      "imshow(sob)\n",
      "colorbar()"
     ],
     "language": "python",
     "metadata": {},
     "outputs": []
    },
    {
     "cell_type": "code",
     "collapsed": false,
     "input": [
      "imshow(sob > 0.33)"
     ],
     "language": "python",
     "metadata": {},
     "outputs": []
    },
    {
     "cell_type": "code",
     "collapsed": false,
     "input": [
      "src_mat= zeros((3, 3))\n",
      "src_mat[1,1] = 1\n",
      "print ndimage.sobel(src_mat, axis=0)\n",
      "print ndimage.sobel(src_mat, axis=1)"
     ],
     "language": "python",
     "metadata": {},
     "outputs": []
    },
    {
     "cell_type": "heading",
     "level": 2,
     "metadata": {},
     "source": [
      "Prewitt Operator"
     ]
    },
    {
     "cell_type": "code",
     "collapsed": false,
     "input": [
      "sx = ndimage.prewitt(im, axis=0, mode='constant')\n",
      "sy = ndimage.prewitt(im, axis=1, mode='constant')\n",
      "subplot(121)\n",
      "imshow(sx)\n",
      "colorbar()\n",
      "subplot(122)\n",
      "imshow(sy)\n",
      "gcf().set_figwidth(16)"
     ],
     "language": "python",
     "metadata": {},
     "outputs": []
    },
    {
     "cell_type": "code",
     "collapsed": false,
     "input": [
      "pre = hypot(sx, sy)\n",
      "imshow(pre)\n",
      "colorbar()"
     ],
     "language": "python",
     "metadata": {},
     "outputs": []
    },
    {
     "cell_type": "code",
     "collapsed": false,
     "input": [
      "src_mat= zeros((5, 5))\n",
      "src_mat[2,2] = 1\n",
      "print ndimage.sobel(src_mat, axis=0)\n",
      "print ndimage.sobel(src_mat, axis=1)\n",
      "print \"-----\"\n",
      "src_mat= zeros((5, 5))\n",
      "src_mat[2,2] = 1\n",
      "print ndimage.prewitt(src_mat, axis=0)\n",
      "print ndimage.prewitt(src_mat, axis=1)"
     ],
     "language": "python",
     "metadata": {},
     "outputs": []
    },
    {
     "cell_type": "code",
     "collapsed": false,
     "input": [
      "src_image = i\n",
      "sx = ndimage.sobel(src_image, axis=0, mode='constant')\n",
      "sy = ndimage.sobel(src_image, axis=1, mode='constant')\n",
      "subplot(121)\n",
      "imshow2(sx)\n",
      "colorbar()\n",
      "subplot(122)\n",
      "imshow2(sy)"
     ],
     "language": "python",
     "metadata": {},
     "outputs": []
    },
    {
     "cell_type": "code",
     "collapsed": false,
     "input": [
      "sob = hypot(sx, sy)\n",
      "imshow2(sob)\n",
      "colorbar()"
     ],
     "language": "python",
     "metadata": {},
     "outputs": []
    },
    {
     "cell_type": "code",
     "collapsed": false,
     "input": [
      "imshow2(sob[100:300, 300:450])"
     ],
     "language": "python",
     "metadata": {},
     "outputs": []
    },
    {
     "cell_type": "code",
     "collapsed": false,
     "input": [
      "src_image = i\n",
      "sx = ndimage.prewitt(src_image, axis=0, mode='constant')\n",
      "sy = ndimage.prewitt(src_image, axis=1, mode='constant')\n",
      "subplot(121)\n",
      "imshow2(sx)\n",
      "colorbar()\n",
      "subplot(122)\n",
      "imshow2(sy)"
     ],
     "language": "python",
     "metadata": {},
     "outputs": []
    },
    {
     "cell_type": "code",
     "collapsed": false,
     "input": [
      "pre = hypot(sx, sy)\n",
      "imshow2(pre)\n",
      "colorbar()"
     ],
     "language": "python",
     "metadata": {},
     "outputs": []
    },
    {
     "cell_type": "code",
     "collapsed": false,
     "input": [
      "subplot(121)\n",
      "imshow2(sob[100:300, 300:450])\n",
      "colorbar()\n",
      "subplot(122)\n",
      "imshow2(pre[100:300, 300:450])\n",
      "gcf().set_figwidth(16)"
     ],
     "language": "python",
     "metadata": {},
     "outputs": []
    },
    {
     "cell_type": "code",
     "collapsed": false,
     "input": [
      "src_image = sob\n",
      "filtered = ndimage.median_filter((src_image > 255 * 0.5), 4)\n",
      "imshow2(filtered)"
     ],
     "language": "python",
     "metadata": {},
     "outputs": []
    },
    {
     "cell_type": "code",
     "collapsed": false,
     "input": [
      "src_image = sob[100:300, 300:450]\n",
      "filtered = ndimage.median_filter((src_image > 255 * 0.5), 4)\n",
      "imshow2(filtered)"
     ],
     "language": "python",
     "metadata": {},
     "outputs": []
    },
    {
     "cell_type": "heading",
     "level": 1,
     "metadata": {},
     "source": [
      "Pixel Mapping"
     ]
    },
    {
     "cell_type": "code",
     "collapsed": false,
     "input": [
      "def warp(a, b):\n",
      "    if a < b:\n",
      "        out = a + b\n",
      "    else:\n",
      "        out = a - b\n",
      "    return out\n",
      "\n",
      "vfunc = vectorize(warp)"
     ],
     "language": "python",
     "metadata": {},
     "outputs": []
    },
    {
     "cell_type": "code",
     "collapsed": false,
     "input": [
      "src_image = i[:,:]\n",
      "warped = vfunc(src_image, 127)\n",
      "imshow(warped, cmap=cm.gray)"
     ],
     "language": "python",
     "metadata": {},
     "outputs": []
    },
    {
     "cell_type": "code",
     "collapsed": false,
     "input": [
      "hist(src_image.flat, bins=255);"
     ],
     "language": "python",
     "metadata": {},
     "outputs": []
    },
    {
     "cell_type": "code",
     "collapsed": false,
     "input": [
      "hist(warped.flat, bins=255);"
     ],
     "language": "python",
     "metadata": {},
     "outputs": []
    },
    {
     "cell_type": "heading",
     "level": 1,
     "metadata": {},
     "source": [
      "Non-linear filtering"
     ]
    },
    {
     "cell_type": "heading",
     "level": 2,
     "metadata": {},
     "source": [
      "Dynamic range processing"
     ]
    },
    {
     "cell_type": "code",
     "collapsed": false,
     "input": [
      "# Assumes uint8 data!\n",
      "def expand(pixel, center, factor):\n",
      "    centered = float(pixel) - center\n",
      "    out = (centered*factor) + center\n",
      "    if out > 255:\n",
      "        out = 255\n",
      "    if out < 0:\n",
      "        out = 0\n",
      "    return uint8(out)\n",
      "    \n",
      "vfunc = vectorize(expand)"
     ],
     "language": "python",
     "metadata": {},
     "outputs": []
    },
    {
     "cell_type": "code",
     "collapsed": false,
     "input": [
      "expanded = vfunc(i, 128, 2.0)\n",
      "imshow(expanded, cmap=cm.gray)"
     ],
     "language": "python",
     "metadata": {},
     "outputs": []
    },
    {
     "cell_type": "code",
     "collapsed": false,
     "input": [
      "hist(expanded.flat, bins=255);"
     ],
     "language": "python",
     "metadata": {},
     "outputs": []
    },
    {
     "cell_type": "code",
     "collapsed": false,
     "input": [
      "hist(expanded.flat, bins=255);\n",
      "ylim((0, 3000))"
     ],
     "language": "python",
     "metadata": {},
     "outputs": []
    },
    {
     "cell_type": "code",
     "collapsed": false,
     "input": [
      "hist(i.flat, bins=255);\n",
      "xlim((0, 300));"
     ],
     "language": "python",
     "metadata": {},
     "outputs": []
    },
    {
     "cell_type": "code",
     "collapsed": false,
     "input": [
      "compressed = vfunc(i, 100, 0.02)\n",
      "imshow(compressed, cmap=cm.gray)\n",
      "colorbar()"
     ],
     "language": "python",
     "metadata": {},
     "outputs": []
    },
    {
     "cell_type": "code",
     "collapsed": false,
     "input": [
      "hist(compressed.flat, bins=255);"
     ],
     "language": "python",
     "metadata": {},
     "outputs": []
    },
    {
     "cell_type": "code",
     "collapsed": false,
     "input": [
      "compressed = vfunc(i, 10, 0.02)\n",
      "imshow(compressed, cmap=cm.gray)\n",
      "colorbar()"
     ],
     "language": "python",
     "metadata": {},
     "outputs": []
    },
    {
     "cell_type": "code",
     "collapsed": false,
     "input": [
      "hist(compressed.flat, bins=255);"
     ],
     "language": "python",
     "metadata": {},
     "outputs": []
    },
    {
     "cell_type": "heading",
     "level": 2,
     "metadata": {},
     "source": [
      "Colorspace processing"
     ]
    },
    {
     "cell_type": "markdown",
     "metadata": {},
     "source": [
      "http://scikit-image.org/"
     ]
    },
    {
     "cell_type": "code",
     "collapsed": false,
     "input": [
      "from skimage import color\n",
      "fruits = imread('vitamy fruits.png')\n",
      "img_hsv = color.rgb2hsv(fruits)\n",
      "imshow(fruits)"
     ],
     "language": "python",
     "metadata": {},
     "outputs": []
    },
    {
     "cell_type": "code",
     "collapsed": false,
     "input": [
      "imshow(img_hsv)"
     ],
     "language": "python",
     "metadata": {},
     "outputs": []
    },
    {
     "cell_type": "code",
     "collapsed": false,
     "input": [
      "img_hsv.shape"
     ],
     "language": "python",
     "metadata": {},
     "outputs": []
    },
    {
     "cell_type": "code",
     "collapsed": false,
     "input": [
      "subplot(231)\n",
      "title(\"Hue\")\n",
      "imshow(img_hsv[:,:,0])\n",
      "subplot(232)\n",
      "title(\"Saturation\")\n",
      "imshow(img_hsv[:,:,1])\n",
      "subplot(233)\n",
      "title(\"Value\")\n",
      "imshow(img_hsv[:,:,2])\n",
      "\n",
      "subplot(234)\n",
      "imshow(fruits)"
     ],
     "language": "python",
     "metadata": {},
     "outputs": []
    },
    {
     "cell_type": "code",
     "collapsed": false,
     "input": [],
     "language": "python",
     "metadata": {},
     "outputs": []
    },
    {
     "cell_type": "markdown",
     "metadata": {},
     "source": [
      "By: Andr\u00e9s Cabrera mantaraya36@gmail.com\n",
      "For MAT course MAT 201A at UCSB\n",
      "\n",
      "This ipython notebook is licensed under the CC-BY-NC-SA license: http://creativecommons.org/licenses/by-nc-sa/4.0/\n",
      "\n",
      "![http://i.creativecommons.org/l/by-nc-sa/3.0/88x31.png](http://i.creativecommons.org/l/by-nc-sa/3.0/88x31.png)"
     ]
    }
   ],
   "metadata": {}
  }
 ]
}